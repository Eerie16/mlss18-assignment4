{
 "cells": [
  {
   "cell_type": "markdown",
   "metadata": {},
   "source": [
    "# ML Summer School - Assignment 4\n",
    "\n",
    "In this assignment, we will be clustering movies on the basis of their synopsis. Unlike previous assignments, this time you will be implementing the KMeans clustering algorithm from scratch."
   ]
  },
  {
   "cell_type": "markdown",
   "metadata": {},
   "source": [
    "### Load Libraries"
   ]
  },
  {
   "cell_type": "code",
   "execution_count": 1,
   "metadata": {},
   "outputs": [
    {
     "name": "stdout",
     "output_type": "stream",
     "text": [
      "[nltk_data] Downloading package averaged_perceptron_tagger to\n",
      "[nltk_data]     /home/eerie16/nltk_data...\n",
      "[nltk_data]   Package averaged_perceptron_tagger is already up-to-\n",
      "[nltk_data]       date!\n",
      "[nltk_data] Downloading package wordnet to /home/eerie16/nltk_data...\n",
      "[nltk_data]   Package wordnet is already up-to-date!\n"
     ]
    },
    {
     "data": {
      "text/plain": [
       "True"
      ]
     },
     "execution_count": 1,
     "metadata": {},
     "output_type": "execute_result"
    }
   ],
   "source": [
    "import numpy as np\n",
    "import pandas as pd\n",
    "import nltk\n",
    "import re\n",
    "import os\n",
    "from sklearn import feature_extraction\n",
    "import pickle\n",
    "import scipy\n",
    "nltk.download('averaged_perceptron_tagger')\n",
    "nltk.download('wordnet')"
   ]
  },
  {
   "cell_type": "markdown",
   "metadata": {},
   "source": [
    "### Load data\n",
    "We will be using the synopsis of Top 100 movies ranked by IMDb. `titles`, `genres` and `synopsis` are lists stored as pickled files. We first load them into memory. \n",
    "\n",
    "Take a look at the lists we have just loaded."
   ]
  },
  {
   "cell_type": "code",
   "execution_count": 2,
   "metadata": {},
   "outputs": [
    {
     "name": "stdout",
     "output_type": "stream",
     "text": [
      "100 100 100\n"
     ]
    }
   ],
   "source": [
    "titles = pickle.load(open('data/titles.pkl','rb'))\n",
    "genres = pickle.load(open('data/genres.pkl','rb'))\n",
    "synopsis = pickle.load(open('data/synopses.pkl','rb'))\n",
    "print(len(titles), len(genres), len(synopsis))"
   ]
  },
  {
   "cell_type": "markdown",
   "metadata": {},
   "source": [
    "### Preprocessing the Data"
   ]
  },
  {
   "cell_type": "markdown",
   "metadata": {},
   "source": [
    "Let us take a look at some of the synopsis."
   ]
  },
  {
   "cell_type": "code",
   "execution_count": 3,
   "metadata": {},
   "outputs": [
    {
     "name": "stdout",
     "output_type": "stream",
     "text": [
      " Plot  [edit]  [  [  edit  edit  ]  ]  \n",
      "  On the day of his only daughter's wedding, Vito Corleone hears requests in his role as the Godfather, the Don of a New York crime family. Vito's youngest son, Michael, in a Marine Corps uniform, introduces his girlfriend, Kay Adams, to his family at the sprawling reception. Vito's godson Johnny Fontane, a popular singer, pleads for help in securing a coveted movie role, so Vito dispatches his consigliere, Tom Hagen, to Los Angeles to influence the abrasive studio head, Jack Woltz. Woltz is unmoved until the morning he wakes up in bed with the severed head of his prized stallion.  On the day of his only daughter's wedding,   Vito Corleone  Vito Corleone   hears requests in his role as the Godfather, the   Don  Don   of a New York crime family. Vito's youngest son,   Michael  Michael  , in a   Marine Corps  Marine Corps   uniform, introduces his girlfriend,   Kay Adams  Kay Adams  , to his family at the sprawling reception. Vito's godson   Johnny Fontane  Johnny Fontane  , a popular singer, pleads for help in securing a coveted movie role, so Vito dispatches his   consigliere  consigliere  ,   Tom Hagen  Tom Hagen  , to Los Angeles to influence the abrasive studio head,   Jack Woltz  Jack Woltz  . Woltz is unmoved until the morning he wakes up in bed with the severed head of his prized   stallion  stallion  .  \n",
      "  Shortly before Christmas 1945, drug baron Virgil \"The Turk\" Sollozzo, backed by the Corleones' rivals, the Tattaglias, asks Vito for investment in the emerging drug trade and protection through his political connections. Vito disapproves of drug dealers, so he sends his enforcer, Luca Brasi, to spy on them. The family then receives two fish wrapped in Brasi's vest, imparting that he \"sleeps with the fishes\". An assassination attempt by Sollozzo's men lands Vito in the hospital, so his eldest son, Sonny, takes command. Sollozzo kidnaps Hagen to pressure Sonny to accept his deal. Michael thwarts a second assassination attempt on his father at the hospital; his jaw is broken by Police Captain McCluskey, who is also Sollozzo's bodyguard. Sonny retaliates for the attacks on his father by having Tattaglia's son killed. Michael comes up with a plan to hit Sollozzo and McCluskey: on the pretext of settling the dispute, Michael accepts their offer to meet in a Bronx restaurant and, retrieving a planted handgun, murders them.  Shortly before Christmas 1945, drug baron   Virgil \"The Turk\" Sollozzo  Virgil \"The Turk\" Sollozzo  , backed by the Corleones' rivals, the Tattaglias, asks Vito for investment in the emerging drug trade and protection through his political connections. Vito disapproves of drug dealers, so he sends his enforcer,   Luca Brasi  Luca Brasi  , to spy on them. The family then receives two fish wrapped in Brasi's vest, imparting that he \"sleeps with the fishes\". An assassination attempt by Sollozzo's men lands Vito in the hospital, so his eldest son,   Sonny  Sonny  , takes command. Sollozzo kidnaps Hagen to pressure Sonny to accept his deal. Michael thwarts a second assassination attempt on his father at the hospital; his jaw is broken by Police Captain McCluskey, who is also Sollozzo's bodyguard. Sonny retaliates for the attacks on his father by having Tattaglia's son killed. Michael comes up with a plan to hit Sollozzo and McCluskey: on the pretext of settling the dispute, Michael accepts their offer to meet in a Bronx restaurant and, retrieving a planted handgun, murders them.  \n",
      "  Despite a clampdown from the authorities, the Five Families erupt in open warfare and the brothers fear for their safety. Michael takes refuge in Sicily, and Fredo Corleone is sheltered by associate Moe Greene in Las Vegas. Sonny attacks his brother-in-law Carlo on the street for abusing his sister Connie and threatens to kill him if he abuses her again. When it happens again, Sonny speeds for her home but assassins ambush him at a highway toll booth and riddle him with submachine gun fire. Michael's time abroad has led to marriage to Apollonia Vitelli. Their euphoria is shattered when a car bomb intended for him takes her life.  Despite a clampdown from the authorities, the   Five Families  Five Families   erupt in open warfare and the brothers fear for their safety. Michael takes refuge in Sicily, and   Fredo Corleone  Fredo Corleone   is sheltered by associate   Moe Greene  Moe Greene   in   Las Vegas  Las Vegas  . Sonny attacks his brother-in-law   Carlo  Carlo   on the street for abusing his sister Connie and threatens to kill him if he abuses her again. When it happens again, Sonny speeds for her home but assassins ambush him at a highway toll booth and riddle him with submachine gun fire. Michael's time abroad has led to marriage to Apollonia Vitelli. Their euphoria is shattered when a car bomb intended for him takes her life.  \n",
      "  Devastated by Sonny's death, Vito decides to end the feuds. Realising that the Tattaglias were under orders of the now dominant Don Emilio Barzini, he promises, before the heads of the Five Families, to withdraw his opposition to their heroin business and forgo revenge for his son's murder. His safety guaranteed, Michael returns home to a father saddened by his involvement in the family business and marries Kay the next year.  Devastated by Sonny's death, Vito decides to end the feuds. Realising that the Tattaglias were under orders of the now dominant Don   Emilio Barzini  Emilio Barzini  , he promises, before the heads of the Five Families, to withdraw his opposition to their heroin business and forgo revenge for his son's murder. His safety guaranteed, Michael returns home to a father saddened by his involvement in the family business and marries Kay the next year.  \n",
      "  With his father at the end of his career and his surviving brother too weak, Michael takes the reins of the family, promising Kay that he will make the business legitimate within five years. To that end, he insists Hagen relocate to Las Vegas and relinquish his role to Vito because Tom is not a \"wartime consigliere\"; the older man agrees Tom should \"have no part in what will happen\" in the coming battles with rival families. When Michael travels to Las Vegas to buy out Greene's stake in the family's casinos, Greene derides the Corleones as a fading power. To add injury to insult, Michael sees Fredo falling under Greene's sway.  With his father at the end of his career and his surviving brother too weak, Michael takes the reins of the family, promising Kay that he will make the business legitimate within five years. To that end, he insists Hagen relocate to Las Vegas and relinquish his role to Vito because Tom is not a \"wartime consigliere\"; the older man agrees Tom should \"have no part in what will happen\" in the coming battles with rival families. When Michael travels to Las Vegas to buy out Greene's stake in the family's casinos, Greene derides the Corleones as a fading power. To add injury to insult, Michael sees Fredo falling under Greene's sway.  \n",
      "  Vito collapses and dies in his garden while playing with Michael's son, Anthony. At the funeral, Salvatore Tessio arranges a meeting between Michael and Don Barzini, signalling his treachery as Vito had warned. The meeting is set for the same day as the christening of Connie's son, to whom Michael will stand as godfather. As the christening proceeds, Corleone assassins, acting on Michael's orders, murder the other New York dons and Moe Greene. Tessio is told that Michael is aware of his betrayal and taken off to his death. After Carlo is questioned by Michael on his involvement in setting up Sonny's murder and confesses he was contacted by Barzini, Peter Clemenza kills him with a wire garrote. Michael is confronted by Connie, who accuses him of having her husband killed. He denies killing Carlo when questioned by Kay, an answer she accepts. As Kay watches warily, Michael receives his capos, who address him as the new Don Corleone.  Vito collapses and dies in his garden while playing with Michael's son,   Anthony  Anthony  . At the funeral,   Salvatore Tessio  Salvatore Tessio   arranges a meeting between Michael and Don Barzini, signalling his treachery as Vito had warned. The meeting is set for the same day as the christening of Connie's son, to whom Michael will stand as godfather. As the christening proceeds, Corleone assassins, acting on Michael's orders, murder the other New York dons and Moe Greene. Tessio is told that Michael is aware of his betrayal and taken off to his death. After Carlo is questioned by Michael on his involvement in setting up Sonny's murder and confesses he was contacted by Barzini,   Peter Clemenza  Peter Clemenza   kills him with a wire   garrote  garrote  . Michael is confronted by Connie, who accuses him of having her husband killed. He denies killing Carlo when questioned by Kay, an answer she accepts. As Kay watches warily, Michael receives his   capos  capos  , who address him as the new Don Corleone.  \n",
      " \n",
      "\n",
      "In late summer 1945, guests are gathered for the wedding reception of Don Vito Corleone's daughter Connie (Talia Shire) and Carlo Rizzi (Gianni Russo). Vito (Marlon Brando), the head of the Corleone Mafia family, is known to friends and associates as \"Godfather.\" He and Tom Hagen (Robert Duvall), the Corleone family lawyer, are hearing requests for favors because, according to Italian tradition, \"no Sicilian can refuse a request on his daughter's wedding day.\" One of the men who asks the Don for a favor is Amerigo Bonasera, a successful mortician and acquaintance of the Don, whose daughter was brutally beaten by two young men because she refused their advances; the men received minimal punishment. The Don is disappointed in Bonasera, who'd avoided most contact with the Don due to Corleone's nefarious business dealings. The Don's wife is godmother to Bonasera's shamed daughter, a relationship the Don uses to extract new loyalty from the undertaker. The Don agrees to have his men punish the young men responsible.Meanwhile, the Don's youngest son Michael (Al Pacino), a decorated Marine hero returning from World War II service, arrives at the wedding and tells his girlfriend Kay Adams (Diane Keaton) anecdotes about his family, informing her about his father's criminal life; he reassures her that he is different from his family and doesn't plan to join them in their criminal dealings. The wedding scene serves as critical exposition for the remainder of the film, as Michael introduces the main characters to Kay. Fredo (John Cazale), Michael's next older brother, is a bit dim-witted and quite drunk by the time he finds Michael at the party. Sonny (James Caan), the Don's eldest child and next in line to become Don upon his father's retirement, is married but he is a hot-tempered philanderer who sneaks into a bedroom to have sex with one of Connie's bridesmaids, Lucy Mancini (Jeannie Linero). Tom Hagen is not related to the family by blood but is considered one of the Don's sons because he was homeless when he befriended Sonny in the Little Italy neighborhood of Manhattan and the Don took him in. Now a talented attorney, Tom is being groomed for the important position of consigliere (counselor) to the Don, despite his non-Sicilian heritage.Also among the guests at the celebration is the famous singer Johnny Fontane (Al Martino), Corleone's godson, who has come from Hollywood to petition Vito's help in landing a movie role that will revitalize his flagging career. Jack Woltz (John Marley), the head of the studio, denies Fontane the part (a character much like Johnny himself), which will make him an even bigger star, but Don Corleone explains to Johnny: \"I'm gonna make him an offer he can't refuse.\" The Don also receives congratulatory salutations from Luca Brasi, a terrifying enforcer in the criminal underworld, and fills a request from the baker who made Connie's wedding cake who wishes for his nephew Enzo to become an American citizen.After the wedding, Hagen is dispatched to Los Angeles to meet with Woltz, but Woltz angrily tells him that he will never cast Fontane in the role. Woltz holds a grudge because Fontane seduced and \"ruined\" a starlet who Woltz had been grooming for stardom and with whom he had a sexual relationship. Woltz is persuaded to give Johnny the role, however, when he wakes up early the next morning and feels something wet in his bed. He pulls back the sheets and finds himself in a pool of blood; he screams in horror when he discovers the severed head of his prized $600,000 stud horse, Khartoum, in the bed with him. (A deleted scene from the film implies that Luca Brasi (Lenny Montana), Vito's top \"button man\" or hitman, is responsible.)Upon Hagen's return, the family meets with Virgil \"The Turk\" Sollozzo (Al Lettieri), who is being backed by the rival Tattaglia family. He asks Don Corleone for financing as well as political and legal protection for importing and distributing heroin. Despite the huge profit to be made, Vito Corleone refuses, explaining that his political influence would be jeopardized by a move into the narcotics trade. The Don's eldest son, Sonny, who had earlier urged the family to enter the narcotics trade, breaks ranks during the meeting and questions Sollozzo's assurances as to the Corleone Family's investment being guaranteed by the Tattaglia Family. His father, angry at Sonny's dissension in a non-family member's presence, privately rebukes him later. Don Corleone then dispatches Luca Brasi to infiltrate Sollozzo's organization and report back with information. During the meeting, while Brasi is bent over to allow Bruno Tattaglia to light his cigarette, he is stabbed in the hand by Sollozzo, and is subsequently garroted by an assassin.Soon after his meeting with Sollozzo, Don Corleone is gunned down in an assassination attempt just outside his office, and it is not immediately known whether he has survived. Fredo Corleone had been assigned driving and protection duty for his father when Paulie Gatto, the Don's usual bodyguard, had called in sick. Fredo proves to be ineffectual, fumbling with his gun and unable to shoot back. When Sonny hears about the Don being shot and Paulie's absence, he orders Clemenza (Richard S. Castellano) to find Paulie and bring him to the Don's house.Sollozzo abducts Tom Hagen and persuades him to offer Sonny the deal previously offered to his father. Enraged, Sonny refuses to consider it and issues an ultimatum to the Tattaglias: turn over Sollozzo or face a lengthy, bloody and costly (for both sides) gang war. They refuse, and instead send Sonny \"a Sicilian message,\" in the form of two fresh fish wrapped in Luca Brasi's bullet-proof vest, to tell the Corleones that Luca Brasi \"sleeps with the fishes.\"Clemenza later takes Paulie and one of the family's hitmen, Rocco Lampone, for a drive into Manhattan. Sonny wants to \"go to the mattresses\" -- set up beds in apartments for Corleone button men to operate out of in the event that the crime war breaks out. On their way back from Manhattan, Clemenza has Paulie stop the car in a remote area so he can urinate. Rocco shoots Paulie dead; he and Clemenza leave Paulie and the car behind.Michael, whom the other Mafia families consider a \"civilian\" uninvolved in mob business, visits his father at a small private hospital. He is shocked to find that no one is guarding him. Realizing that his father is again being set up to be killed, he calls Sonny for help, moves his father to another room, and goes outside to watch the entrance. Michael enlists help from Enzo the baker (Gabriele Torrei), who has come to the hospital to pay his respects. Together, they bluff away Sollozzo's men as they drive by. Police cars soon appear bringing the corrupt Captain McCluskey (Sterling Hayden), who viciously punches Michael in the cheek and breaks his jaw when Michael insinuates that Sollozzo paid McCluskey to set up his father. Just then, Hagen arrives with \"private detectives\" licensed to carry guns to protect Don Corleone, and he takes the injured Michael home. Sonny responds by having Bruno Tattaglia (Tony Giorgio), the eldest son and underboss of Don Phillip Tattaglia (Victor Rendina), killed (off-camera).Following the attempt on the Don's life at the hospital, Sollozzo requests a meeting with the Corleones, which Captain McCluskey will attend as Sollozzo's bodyguard. When Michael volunteers to kill both men during the meeting, Sonny and the other senior Family members are amused; however, Michael convinces them that he is serious and that killing Sollozzo and McCluskey is in the family's interest: \"It's not personal. It's strictly business.\" Because Michael is considered a civilian, he won't be regarded as a suspicious ambassador for the Corleones. Although police officers are usually off limits for hits, Michael argues that since McCluskey is corrupt and has illegal dealings with Sollozzo, he is fair game. Michael also implies that newspaper reporters that the Corleones have on their payroll would delight in publishing stories about a corrupt police captain.Michael meets with Clemenza, one of his father's caporegimes (captains), who prepares a small pistol for him, covering the trigger and grip with tape to prevent any fingerprint evidence. He instructs Michael about the proper way to perform the assassination and tells him to leave the gun behind. He also tells Michael that the family were all very proud of Michael for becoming a war hero during his service in the Marines. Clemenza shows great confidence that Michael can perform the job and tells him it will all go smoothly. The plan is to have the Corleone's informers find out the location of the meeting and plant the revolver before Michael, Sollozzo and McCluskey arrive.Before the meeting in a small Italian restaurant, McCluskey frisks Michael for weapons and finds him clean. Michael excuses himself to go to the bathroom, where he retrieves the planted revolver. Returning to the table, he fatally shoots Sollozzo, then McCluskey. Michael is sent to hide in Sicily while the Corleone family prepares for all-out warfare with the Five Families (who are united against the Corleones) as well as a general clampdown on the mob by the police and government authorities. When the don returns home from the hospital, he is distraught to learn that it was Michael who killed Sollozzo and McCluskey.Meanwhile, Connie and Carlo's marriage is disintegrating. They argue publicly over Carlo's suspected infidelity and his possessive behavior toward Connie. By Italian tradition, nobody, not even a high-ranking Mafia don, can intervene in a married couple's personal disputes, even if they involve infidelity, money, or domestic abuse. One day, Sonny sees a bruise on Connie's face and she tells him that Carlo hit her after she asked him if he was having an affair. Sonny tracks down and severely beats up Carlo Rizzi in the middle of a crowded street for brutalizing the pregnant Connie, and threatens to kill Carlo if he ever abuses Connie again. An angry Carlo responds by plotting with Tattaglia and Don Emilio Barzini (Richard Conte), the Corleones' chief rivals, to have Sonny killed.Later, Carlo has one of his mistresses phone his house, knowing that Connie will answer. The woman asks Connie to tell Carlo not to meet her tonight. The very pregnant and distraught Connie assaults Carlo; he takes advantage of the altercation to beat Connie in order to lure Sonny out in the open and away from the Corleone compound. When Connie phones the compound to tell Sonny that Carlo has beaten her again, the furious Sonny drives off (alone and unescorted) to fulfill his threat against Carlo. On the way to Connie and Carlo's house, Sonny is ambushed at a toll booth on the Long Island Causeway and violently shot to death by several carloads of hitmen wielding Thompson sub-machine guns.Tom Hagen relays the news of Sonny's massacre to the Don, who calls in the favor from Bonasera to personally handle the embalming of Sonny's body. Rather than seek revenge for Sonny's killing, Don Corleone meets with the heads of the Five Families to negotiate a cease-fire. Not only is the conflict draining all their assets and threatening their survival, but ending it is the only way that Michael can return home safely. Reversing his previous decision, Vito agrees that the Corleone family will provide political protection for Tattaglia's traffic in heroin, as long as it is controlled and not sold to children. At the meeting, Don Corleone deduces that Don Barzini, not Tattaglia, was ultimately behind the start of the mob war and Sonny's death.In Sicily, Michael patiently waits out his exile, protected by Don Tommasino (Corrado Gaipa), an old family friend. Michael aimlessly wanders the countryside, accompanied by his ever-present bodyguards, Calo (Franco Citti) and Fabrizio (Angelo Infanti). In a small village, Michael meets and falls in love with Apollonia Vitelli (Simonetta Stefanelli), the beautiful young daughter of a bar owner. They court and marry in the traditional Sicilian fashion, but soon Michael's presence becomes known to Corleone enemies. As the couple is about to be moved to a safer location, Apollonia is killed as a result of a rigged car (originally intended for Michael), exploding on ignition; Michael, who watched the car blow up, spots Fabrizio hurriedly leaving the grounds seconds before the explosion, implicating him in the assassination plot. (In a deleted scene, Fabrizio is found years later and killed.)With his safety guaranteed, Michael returns home. More than a year later, in 1950, he reunites with his former girlfriend Kay after a total of four years of separation -- three in Italy and one in America. He tells her he wants them to be married. Although Kay is hurt that he waited so long to contact her, she accepts his proposal. With Don Vito semi-retired, Sonny dead, and middle brother Fredo considered incapable of running the family business, Michael is now in charge; he promises Kay he will make the family business completely legitimate within five years.Two years later, Clemenza and Salvatore Tessio (Abe Vigoda), complain that they are being pushed around by the Barzini Family and ask permission to strike back, but Michael denies the request. He plans to move the family operations to Nevada and after that, Clemenza and Tessio may break away to form their own families. Michael further promises Connie's husband, Carlo, that he will be his right hand man in Nevada (Carlo had grown up there), unaware of his part in Sonny's assassination. Tom Hagen has been removed as consigliere and is now merely the family's lawyer, with Vito serving as consigliere. Privately, Hagen inquires about his change in status, and also questions Michael about a new regime of \"soldiers\" secretly being built under Rocco Lampone (Tom Rosqui). Don Vito explains to Hagen that Michael is acting on his advice.Another year or so later, Michael travels to Las Vegas and meets with Moe Greene (Alex Rocco), a rich and shrewd casino boss looking to expand his business dealings. After the Don's attempted assassination, Fredo had been sent to Las Vegas to learn about the casino business from Greene. Michael arrogantly offers to buy out Greene but is rudely rebuffed. Greene believes the Corleones are weak and that he can secure a better deal from Barzini. As Moe and Michael heatedly negotiate, Fredo sides with Moe. Afterward, Michael warns Fredo to never again \"take sides with anyone against the family.\"Michael returns home. In a private moment, Vito explains his expectation that the Family's enemies will attempt to murder Michael by using a trusted associate to arrange a meeting as a pretext for assassination. Vito also reveals that he had never really intended a life of crime for Michael, hoping that his youngest son would hold legitimate power as a senator or governor. Some months later, Vito collapses and dies while playing with his young grandson Anthony (Anthony Gounaris) in his tomato garden. At the burial, Tessio conveys a proposal for a meeting with Barzini, which identifies Tessio as the traitor that Vito was expecting.Michael arranges for a series of murders to occur simultaneously while he is standing godfather to Connie's and Carlo's newborn son at the church:Don Stracci (Don Costello) is gunned down along with his bodyguard in a hotel elevator by a shotgun-wielding Clemenza.Moe Greene is killed while having a massage, shot through the eye by an unidentified assassin.Don Cuneo (Rudy Bond) is trapped in a revolving door at the St. Regis Hotel and shot dead by soldier Willi Cicci (Joe Spinell).Don Tattaglia is assassinated in his bed, along with a prostitute, by Rocco Lampone and an unknown associate.Don Barzini is killed on the steps of his office building along with his bodyguard and driver, shot by Al Neri (Richard Bright), disguised in his old police uniform.After the baptism, Tessio believes he and Hagen are on their way to the meeting between Michael and Barzini that he has arranged. Instead, he is surrounded by Willi Cicci and other button men as Hagen steps away. Realizing that Michael has uncovered his betrayal, Tessio tells Hagen that he always respected Michael, and that his disloyalty \"was only business.\" He asks if Tom can get him off for \"old times' sake,\" but Tom says he cannot. Tessio is driven away and never seen again (it is implied that Cicci shoots and kills Tessio with his own gun after he disarms him prior to entering the car).Meanwhile, Michael confronts Carlo about Sonny's murder and forces him to admit his role in setting up the ambush, having been approached by Barzini himself. (The hitmen who killed Sonny were the core members of Barzini's personal bodyguard.) Michael assures Carlo he will not be killed, but his punishment is exclusion from all family business. He hands Carlo a plane ticket to exile in Las Vegas. However, when Carlo gets into a car headed for the airport, he is immediately garroted to death by Clemenza, on Michael's orders.Later, a hysterical Connie confronts Michael at the Corleone compound as movers carry away the furniture in preparation for the family move to Nevada. She accuses him of murdering Carlo in retribution for Carlo's brutal treatment of her and for Carlo's suspected involvement in Sonny's murder. After Connie is removed from the house, Kay questions Michael about Connie's accusation, but he refuses to answer, reminding her to never ask him about his business or what he does for a living. She insists, and Michael outright lies, reassuring his wife that he played no role in Carlo's death. Kay believes him and is relieved. The film ends with Clemenza and new caporegimes Rocco Lampone and Al Neri arriving and paying their respects to Michael. Clemenza kisses Michael's hand and greets him as \"Don Corleone.\" As Kay watches, the office door is closed.\n",
      "\n",
      "\n"
     ]
    }
   ],
   "source": [
    "print(synopsis[0])"
   ]
  },
  {
   "cell_type": "code",
   "execution_count": 4,
   "metadata": {},
   "outputs": [
    {
     "name": "stdout",
     "output_type": "stream",
     "text": [
      " Plot  [edit]  [  [  edit  edit  ]  ]  \n",
      "  In 1947, banker Andy Dufresne is convicted of murdering his wife and her lover and sentenced to two consecutive life sentences at the fictional Shawshank State Penitentiary in the state of Maine. Andy befriends contraband smuggler Ellis \"Red\" Redding, an inmate serving a life sentence. Red procures a rock hammer and later a large poster of Rita Hayworth for Andy. Working in the prison laundry, Andy is regularly assaulted by the \"bull queer\" gang \"the Sisters\" and their leader, Bogs.  In 1947, banker Andy Dufresne is convicted of murdering his wife and her lover and sentenced to two consecutive life sentences at the fictional Shawshank State Penitentiary in the state of Maine. Andy befriends   contraband  contraband   smuggler Ellis \"Red\" Redding, an inmate serving a life sentence. Red procures a   rock hammer  rock hammer   and later a large poster of   Rita Hayworth  Rita Hayworth   for Andy. Working in the prison laundry, Andy is regularly assaulted by the \"  bull queer  bull queer  \" gang \"the Sisters\" and their leader, Bogs.  \n",
      "  In 1949, Andy overhears the brutal captain of the guards, Byron Hadley, complaining about being taxed on an inheritance and offers to help him legally shelter the money. After a vicious assault by the Sisters nearly kills Andy, Hadley beats Bogs severely. Bogs is sent to another prison and Andy is never attacked again. Warden Samuel Norton meets with Andy and reassigns him to the prison library to assist elderly inmate Brooks Hatlen. Andy's new job is a pretext for him to begin managing financial matters for the prison employees. As time passes, the warden begins using Andy to handle matters for a variety of people including guards from other prisons and the warden himself. Andy begins writing weekly letters to the state government for funds to improve the decaying library.  In 1949, Andy overhears the brutal captain of the guards, Byron Hadley, complaining about being taxed on an inheritance and offers to help him legally shelter the money. After a vicious assault by the Sisters nearly kills Andy, Hadley beats Bogs severely. Bogs is sent to another prison and Andy is never attacked again. Warden Samuel Norton meets with Andy and reassigns him to the prison library to assist elderly inmate Brooks Hatlen. Andy's new job is a pretext for him to begin managing financial matters for the prison employees. As time passes, the warden begins using Andy to handle matters for a variety of people including guards from other prisons and the warden himself. Andy begins writing weekly letters to the state government for funds to improve the decaying library.  \n",
      "  In 1954, Brooks is paroled, but cannot adjust to the outside world after fifty years in prison and hangs himself. Andy receives a library donation that includes a recording of The Marriage of Figaro. He plays an excerpt over the public address system, resulting in his receiving solitary confinement. After his release from solitary Andy explains that hope is what gets him through his time, a concept that Red dismisses. In 1963, Norton begins exploiting prison labor for public works, profiting by undercutting skilled labor costs and receiving kickbacks. He has Andy launder the money using the alias Randall Stephens.  In 1954, Brooks is   paroled  paroled  , but cannot adjust to the outside world after fifty years in prison and   hangs himself  hangs himself  . Andy receives a library donation that includes a recording of   The Marriage of Figaro  The Marriage of Figaro  The Marriage of Figaro  . He plays   an excerpt  an excerpt   over the public address system, resulting in his receiving   solitary confinement  solitary confinement  . After his release from solitary Andy explains that hope is what gets him through his time, a concept that Red dismisses. In 1963, Norton begins exploiting prison labor for public works, profiting by undercutting skilled labor costs and receiving   kickbacks  kickbacks  . He has Andy   launder  launder   the money using the alias Randall Stephens.  \n",
      "  In 1965, Tommy Williams is incarcerated for burglary. He joins Andy's and Red's circle of friends, and Andy helps him pass his G.E.D. exam. In 1966, Tommy reveals to Red and Andy that an inmate at another prison claimed responsibility for the murders Andy was convicted of, implying Andy's innocence. Andy approaches Warden Norton with this information, but the warden refuses to listen and sends Andy back to solitary when he mentions the money laundering. Norton then has Captain Hadley murder Tommy under the guise of an escape attempt. Andy refuses to continue the money laundering, but relents after Norton threatens to burn the library, remove Andy's protection from the guards, and move him out of his cell into worse conditions. Andy is released from solitary confinement and tells Red of his dream of living in Zihuatanejo, a Mexican coastal town. Red feels Andy is being unrealistic, but promises Andy that if he is ever released he will visit a specific hayfield near Buxton, Maine and retrieve a package Andy buried there. Red becomes worried about Andy's state of mind, especially when he learns Andy asked another inmate to supply him with six feet of rope.  In 1965, Tommy Williams is incarcerated for   burglary  burglary  . He joins Andy's and Red's circle of friends, and Andy helps him pass his   G.E.D.  G.E.D.   exam. In 1966, Tommy reveals to Red and Andy that an inmate at another prison claimed responsibility for the murders Andy was convicted of, implying Andy's innocence. Andy approaches Warden Norton with this information, but the warden refuses to listen and sends Andy back to solitary when he mentions the money laundering. Norton then has Captain Hadley murder Tommy under the guise of an escape attempt. Andy refuses to continue the money laundering, but relents after Norton threatens to burn the library, remove Andy's protection from the guards, and move him out of his cell into worse conditions. Andy is released from solitary confinement and tells Red of his dream of living in   Zihuatanejo  Zihuatanejo  , a Mexican coastal town. Red feels Andy is being unrealistic, but promises Andy that if he is ever released he will visit a specific hayfield near   Buxton, Maine  Buxton, Maine   and retrieve a package Andy buried there. Red becomes worried about Andy's state of mind, especially when he learns Andy asked another inmate to supply him with six feet of rope.  \n",
      "  The next day at roll call the guards find Andy's cell empty. An irate Warden Norton throws a rock at the poster of Raquel Welch hanging on the wall, and the rock tears through the poster. Removing the poster, the warden discovers a tunnel that Andy dug with his rock hammer over the previous two decades. The previous night, Andy escaped through the tunnel and used the prison's sewage pipe to reach freedom. Andy escapes with Norton's suit, shoes, and the ledger containing details of the money laundering. While guards search for him the following morning, Andy poses as Randall Stephens and visits several banks to withdraw the laundered money. Finally, he mails the ledger and evidence of the corruption and murders at Shawshank to a local newspaper. The police arrive at Shawshank and take Hadley into custody, while Norton commits suicide to avoid arrest.  The next day at   roll call  roll call   the guards find Andy's cell empty. An irate Warden Norton throws a rock at the poster of   Raquel Welch  Raquel Welch   hanging on the wall, and the rock tears through the poster. Removing the poster, the warden discovers a tunnel that Andy dug with his rock hammer over the previous two decades. The previous night, Andy escaped through the tunnel and used the prison's sewage pipe to reach freedom. Andy escapes with Norton's suit, shoes, and the ledger containing details of the money laundering. While guards search for him the following morning, Andy poses as Randall Stephens and visits several banks to withdraw the laundered money. Finally, he mails the ledger and evidence of the corruption and murders at Shawshank to a local newspaper. The police arrive at Shawshank and take Hadley into custody, while Norton commits suicide to avoid arrest.  \n",
      "  After serving 40 years, Red is finally paroled. He struggles to adapt to life outside prison and fears he never will. Remembering his promise to Andy, he visits Buxton and finds a cache containing money and a letter asking him to come to Zihuatanejo. Red violates his parole and travels to Fort Hancock, Texas to cross the border to Mexico, admitting he finally feels hope. On a beach in Zihuatanejo he finds Andy, and the two friends are happily reunited.  After serving 40 years, Red is finally paroled. He struggles to adapt to life outside prison and fears he never will. Remembering his promise to Andy, he visits Buxton and finds a cache containing money and a letter asking him to come to Zihuatanejo. Red violates his parole and travels to   Fort Hancock, Texas  Fort Hancock, Texas   to cross the border to Mexico, admitting he finally feels hope. On a beach in Zihuatanejo he finds Andy, and the two friends are happily reunited.  \n",
      " \n",
      "\n",
      "In 1947, Andy Dufresne (Tim Robbins), a banker in Maine, is convicted of murdering his wife and her lover, a golf pro. He is given two life sentences and sent to the notoriously harsh Shawshank Prison. Andy always claims his innocence, but his cold and measured demeanor led many to doubt his word.During the first night, the chief guard, Byron Hadley (Clancy Brown), savagely beats a newly arrived inmate because of his crying and hysterics. The inmate later dies in the infirmary because the prison doctor had left for the night. Meanwhile Andy remained steadfast and composed. Ellis Boyd Redding (Morgan Freeman), also known as Red, bet against others that Andy would be the one to break down first and loses a considerable amount of cash.About a month later, Andy approaches Red, who runs contraband inside the walls of Shawshank. He asks if Red could find him a rock hammer, an instrument he claims is necessary for his hobby of rock collecting and sculpting. Though other prisoners consider Andy \"a really cold fish\", Red sees something in Andy, and likes him from the start. Red believes Andy intends to use the hammer to engineer his escape in the future but when the tool arrived and he saw how small it was, Red put aside the thought that Andy could ever use it to dig his way out of prison.Over the first two years of his incarceration, Andy works in the prison laundry. He attracts attention from \"the Sisters\", a group of prisoners who sexually assault other prisoners. Though he persistently resists and fights them, Andy is beaten and raped on a regular basis.Red pulls some strings, and gets Andy and a few of their mutual friends a break by getting them all on a work detail tarring the roof of one of the prison's buildings. During the job Andy overhears Hadley complaining about having to pay taxes for an upcoming inheritance. Using his expertise as a banker, Andy lets Hadley know how he could shelter his money from the IRS, turning it into a one-time gift for his wife. He said he'd assist in exchange for some cold beers for his fellow inmates while on the tarring job. Though he at first threatens to throw Andy off the roof, Hadley, the most brutal guard in the prison, agrees, providing the men with cold beer before the job is finished. Red remarks that Andy may have engineered the privilege to build favor with the prison guards as much as with his fellow inmates, but Red also thinks Andy did it simply to \"feel free.\"While watching a movie, Andy demands Red \"Rita Hayworth\". Soon, after asking Red for \"Rita Hayworth\", Andy once more encountered the Sisters and is brutally beaten, putting him in the infirmary for a month. Boggs (Mark Rolston), the leader of \"The Sisters\", spends a week in solitary. When he comes out, he finds Hadley and his men waiting in his cell. They beat him so badly he's left paralyzed, transferred to a prison hospital upstate, and the Sisters never bothered Andy again. When Andy got out of the infirmary, he finds a bunch of rocks and a poster of Rita Hayworth in his cell: presents from Red and his buddies.Warden Samuel Norton (Bob Gunton) hears about Andy helped Hadley and uses a surprise cell inspection to size Andy up. The warden meets with Andy and sends him to work with aging inmate Brooks Hatlen (James Whitmore) in the prison library, where he sets up a make-shift desk to provide services to other guards (and the warden himself) with income tax returns and other financial advice. There Andy sees an opportunity to expand the prison library, starting with asking the Maine state senate for funds. He starts writing letters and sending them every week. His financial support practice became so appreciated that even guards from other prisons, when they came for inter-prison baseball matches, sought Andy's financial advice. Andy even ends up doing Norton's taxes the next season.Not long afterward, Brooks, the old librarian, threatens to kill another prisoner, Heywood, in order to avoid being paroled. Andy is able to talk him down and Brooks is paroled. He goes to a halfway house but finds it impossible to adjust to life outside the prison. He eventually commits suicide. When his friends suggest that he was crazy for doing so, Red tells them that Brooks had obviously become \"institutionalized\", essentially conditioned to be a prisoner for the rest of his life and unable to adapt to the outside world. Red remarks: \"These walls are funny. First you hate 'em, then you get used to 'em. Enough time passes, you get so you depend on them.\"After six years of writing letters, Andy receives $200 from the state for the library, along with a collection of old books and records. Though the state Senate thinks this will be enough to get Andy to halt his letter-writing campaign, he is undaunted and doubles his efforts.When the donations of old books and records arrive at the warden's office, Andy finds a copy of Mozart's \"The Marriage of Figaro\" among the records. He locks the guard assigned to the warden's office in the bathroom and plays the record on a phonograph over the prison's PA system. The entire prison seems captivated by the music - Red remarks that the voices of the women in the intro made everyone feel free, if only for a brief time. Outside the office, Norton appears, furious at the act of defiance and orders Andy to turn off the record player. Andy reaches for the needle arm at first, then turns the volume on the phonograph up. The warden orders Hadley to break into the office and Andy is sent immediately to solitary confinement for two weeks. When he gets out, he tells his friends that it was the \"easiest time\" stretch ever did in the hole because he thought of Mozart's Figaro. When the other prisoners tell him how unlikely that could be, he tells them that hope can sustain them. Red is not convinced and leaves, bitter at the thought.With the enlarged library and more materials, Andy begins to teach those inmates who want to receive their high school diplomas. After Andy is able to secure a steady stream of funding from various sources, the library is further renovated and named for Brooks.Warden Norton profits on Andy's knowledge of bookkeeping and devises a scheme whereby he put prison inmates to work in public projects which he won by outbidding other contractors (cheap labor from the prisoners). Occasionally, he let others get some contracts if they bribe him. Andy launders money for the warden by setting up many accounts in different banks, along with several investments, using a fake identity: \"Randall Stephens\". He shared the details only with his friend, Red, noting that he had to \"go to prison to learn how to be a criminal.\"In 1965, a young prisoner named Tommy (Gil Bellows) comes to Shawshank. Andy suggests that Tommy take up another line of work besides theft. The suggestion really gets to Tommy and he works on achieving his high school equivalency diploma. Though Tommy is a good student, he is still frustrated when he takes the exam itself, crumpling it up and tossing it in the trash. Andy retrieves it and sends it in.One day Red tells Tommy about Andy's case. Tommy is visibly upset at hearing Andy's story and tells Andy and Red that he had a cellmate in another prison who boasted about killing a man who was a pro golfer at the country club he worked at, along with his lover. The woman's husband, a banker, had gone to prison for those murders. With this new information, Andy, full of hope, meets with the warden's, expecting he could help him get another trial with Tommy as a witness. The reaction from Norton is completely contrary to what Andy hoped for. Andy says emphatically that he would never reveal the money laundering schemes he had set up for Norton over the years - the warden becomes furious and orders him to solitary for a month. The warden later meets with Tommy alone and asks him if he'll testify on Andy's behalf. Tommy enthusiastically agrees and the warden has him shot dead by Hadley.When the warden visits Andy in solitary, he tells him that Tommy was killed while attempting escape. Andy tells Norton that the financial schemes will stop. The warden counters, saying the library will be destroyed and all it's materials burned. Andy will also lose his private cell and be sent to the block with the most hardened criminals. The warden gives Andy another month in solitary.Afterwards, Andy returns to the usual daily life at Shawshank, a seemingly broken man. One day he talks to Red, about how although he didn't kill his wife, his personality drove her away, which led to her infidelity and death. He says if he's ever freed or escapes, he'd like to go to Zihuatanejo, a beach town on the Pacific coast of Mexico. He also tells Red how he got engaged. He and his future wife went up to a farm in Buxton, Maine, to a large oak tree at the end of a stone wall. The two made love under the tree, after which he proposed to her. He tells Red that, if he should ever be paroled, he should look for that field, and that oak tree. There, under a large black volcanic rock that would look out of place, Andy has buried a box that he wants Red to have. Andy refuses to reveal what might be in that box.Later, Andy asks for a length of rope, leading Red and his buddies to suspect he will commit suicide. At the end of the day, Norton asks Andy to shine his shoes for him and put his suit in for dry-cleaning before retiring for the night.The following morning, Andy is not accounted for as usual from his cell. At the same time, Norton becomes alarmed when he finds Andy's shoes in his shoebox instead of his own. He rushes to Andy's cell and demands an explanation. Hadley brings in Red, but Red insists he knows nothing of Andy's plans. Becoming increasing hostile and paranoid, Norton starts throwing Andy's sculpted rocks around the cell. When he throws one at Andy's poster of Raquel Welch (where it used to hold Marilyn Monroe and Rita Hayworth before), the rock punches through and into the wall. Norton tears the poster away from the wall and finds a tunnel just wide enough for a man to crawl through.During the previous nights thunderstorm, Andy wore Norton's shoes to his cell, catching a lucky break when no one notices. He packs some papers and Norton's clothes into a plastic bag, tied it to himself with the rope he'd asked for, and escapes through his hole. The tunnel he'd excavated led him to a space between two walls of the prison where he found a sewer main line. Using a rock, he hits it in time with the lightning strikes and eventually burst it. Crawling through 500 yards in the pipe and through the raw sewage contained in it, Andy emerged in a brook outside the walls. A search team later found his uniform and his rock hammer which had been worn nearly to nothing.That morning, Andy walks into the Maine National Bank in Portland, where he had put Warden Norton's money. Using his assumed identity as Randall Stephens, and with all the necessary documentation, he walked out with a cashier's check. Before he leaves, he asks them to drop a package in the mail. He continues his visitations to nearly a dozen other local banks, ending up with some $370,000. The package contained Warden Norton's account books which were delivered straight to the Portland Daily Bugle newspaper.Not long after, the police storms Shawshank Prison. Hadley is arrested for murder; Red said he was taken away \"crying like a little girl\". Warden Norton finally opens the safe, which he hadn't touched since Andy escaped, and instead of his books, he finds the Bible he had given Andy. Norton opens it to the book of Exodus and finds that the pages have been cut out in the shape of Andy's rock hammer. Norton walks back to his desk as the police pound on his door, takes out a small revolver and shoots himself under the chin. Red remarks that he wondered if the warden thought, right before pulling the trigger, how \"Andy could ever have gotten the best of him.\"Shortly after, Red receives a postcard from Fort Hancock, Texas, with nothing written on it. Red takes it as a sign that Andy made it into Mexico to freedom. Red and his buddies would spend their time talking about Andy's exploits (with a lot of embellishments), but Red just missed his friend.At Red's next parole hearing in 1967, he talked to the parole board about how \"rehabilitated\" was a made-up word, and how he regretted his actions of the past. His parole is granted this time. He goes to work at a grocery store, and stays at the same halfway house room Brooks had stayed in. He frequently walks by a pawn shop, which had several guns and compasses in the window. At times he would contemplate trying to get back into prison, but he remembered the promise he had made to Andy.One day, with a compass he bought from the pawn shop, he followed Andy's instructions, hitchhiking to Buxton and arriving at the stone wall Andy described. Just like Andy said, there was a large black stone. Under it was a small box containing a large sum of cash and instructions to find him. He said he needed somebody \"who could get things\" for a \"project\" of his.Red violates parole and leaves the halfway house, unconcerned since no one would really do an extensive manhunt for \"an old crook like [him].\" He takes a bus to Fort Hancock, where he crosses into Mexico. The two friends are finally reunited on the beach of Zihuatanejo on the Pacific coast.\n",
      "\n"
     ]
    }
   ],
   "source": [
    "print(synopsis[1])"
   ]
  },
  {
   "cell_type": "markdown",
   "metadata": {},
   "source": [
    "We can see that the synopsis contain a lot of names (Proper Nouns) and years. They are specific to the movies and do not seem to be helpful to cluster the movies. We should remove them\n",
    "\n",
    "We will also be lemmatizing the words. [Lemmatizing](https://www.twinword.com/blog/what-is-lemmatization/ ) refers to replacing word by its base form (lemma). For example, lemmatizing `cars` gives `car`. Lemmatizing will help in clubbing all different inflections of words, eg. `loves`, `loving`, `loved` will all be lemmatized to `love`."
   ]
  },
  {
   "cell_type": "markdown",
   "metadata": {},
   "source": [
    "### Task 1"
   ]
  },
  {
   "cell_type": "markdown",
   "metadata": {},
   "source": [
    "Complete the following function `preprocess_data`. It takes in text as input, and [removes proper nouns](https://stackoverflow.com/questions/39634222/is-there-a-way-to-remove-proper-nouns-from-a-sentence-using-python), non-alphabetic words, lemmatizes the data and lower cases the entire text."
   ]
  },
  {
   "cell_type": "code",
   "execution_count": 5,
   "metadata": {},
   "outputs": [],
   "source": [
    "from nltk.stem import WordNetLemmatizer\n",
    "\n",
    "def preprocess_data(text):\n",
    "    \"\"\"Removes proper noun, non-alphabetic words, lemmatizes the data and lower cases the entire text\"\"\"\n",
    "    \n",
    "    # YOUR CODE STARTS HERE\n",
    "    lemmatizer=WordNetLemmatizer()\n",
    "    words=re.compile('\\w+').findall(text)\n",
    "    words=[word for word in words if word.isalpha() and len(word)>2 and word not in ['the', 'his','her'] ]\n",
    "    tagged=nltk.tag.pos_tag(words)\n",
    "    edited_sentence = [word for word,tag in tagged if tag != 'NNP' and tag != 'NNPS']\n",
    "    edited_sentence=[lemmatizer.lemmatize(word) for word in edited_sentence]\n",
    "    return ' '.join(edited_sentence).lower()\n",
    "    # YOUR CODE ENDS HERE\n",
    "    \n"
   ]
  },
  {
   "cell_type": "markdown",
   "metadata": {},
   "source": [
    "**Sample input**: preprocess_data(synopsis[0][:1000])\n",
    "\n",
    "\n",
    "**Sample output**: 'edit edit edit day daughter wedding hears request role crime family son uniform introduces girlfriend family reception godson singer pleads help securing movie role dispatch consigliere influence studio head is unmoved morning wake bed head stallion day daughter wedding hears request role crime family son uniform introduces girlfriend family reception godson'\n",
    "\n"
   ]
  },
  {
   "cell_type": "code",
   "execution_count": 6,
   "metadata": {
    "scrolled": true
   },
   "outputs": [
    {
     "data": {
      "text/plain": [
       "'edit edit edit day only daughter wedding hears request role crime family youngest son uniform introduces girlfriend family sprawling reception godson popular singer pleads for help securing coveted movie role dispatch consigliere influence abrasive studio head unmoved until morning wake bed with severed head prized stallion day only daughter wedding hears request role crime family youngest son uniform introduces girlfriend family sprawling reception godson'"
      ]
     },
     "execution_count": 6,
     "metadata": {},
     "output_type": "execute_result"
    }
   ],
   "source": [
    "preprocess_data(synopsis[0][:1000])"
   ]
  },
  {
   "cell_type": "markdown",
   "metadata": {},
   "source": [
    "### Creating the Features\n",
    "\n",
    "We will extract features from the synopsis using TfIdf Vectoriser, which will be used to cluster the movies. \n",
    "\n",
    "Read more about TfIdf Vectoriser [here](http://blog.christianperone.com/2011/09/machine-learning-text-feature-extraction-tf-idf-part-i/) and [here](http://blog.christianperone.com/2011/10/machine-learning-text-feature-extraction-tf-idf-part-ii/)."
   ]
  },
  {
   "cell_type": "code",
   "execution_count": 7,
   "metadata": {},
   "outputs": [
    {
     "name": "stdout",
     "output_type": "stream",
     "text": [
      "CPU times: user 10.6 s, sys: 1.63 ms, total: 10.6 s\n",
      "Wall time: 10.6 s\n",
      "(100, 449)\n",
      "449\n"
     ]
    }
   ],
   "source": [
    "from sklearn.feature_extraction.text import TfidfVectorizer\n",
    "\n",
    "tfidf_vectorizer = TfidfVectorizer(max_df=0.8, max_features=20000, min_df=0.2,\\\n",
    "                                   stop_words='english', preprocessor=preprocess_data, \\\n",
    "                                   use_idf=True, ngram_range=(1, 1))\n",
    "\n",
    "%time tfidf_matrix = tfidf_vectorizer.fit_transform(synopsis)\n",
    "\n",
    "print(tfidf_matrix.shape)\n",
    "terms = tfidf_vectorizer.get_feature_names()\n",
    "print(len(terms))\n"
   ]
  },
  {
   "cell_type": "code",
   "execution_count": 8,
   "metadata": {},
   "outputs": [
    {
     "name": "stdout",
     "output_type": "stream",
     "text": [
      "100\n"
     ]
    }
   ],
   "source": [
    "tfidf_matrix\n",
    "print(tfidf_matrix.shape[0])"
   ]
  },
  {
   "cell_type": "markdown",
   "metadata": {},
   "source": [
    "### Task 2 - Implementing KMeans\n",
    "\n",
    "This is the most important task of this assignment because in this, you will implement your own K-Means. Fill in the function `KMeans` which will return the labels and cluster centers in the tuple `(labels,centers)` for the given feature matrix `X` and `num_clusters`. We also pass the `max_iter` parameter to run KMeans for that many iterations as it sometimes gets stuck on a local minima. You can learn more about Kmeans clustering [here](https://en.wikipedia.org/wiki/K-means_clustering) and [here](https://www.datascience.com/blog/k-means-clustering).\n",
    "\n",
    "**Sample Input**: `[[2,1], [2,3], [8,1], [8,3]]`, `num_clusters=2`\n",
    "\n",
    "**Sample Output**: `([0,0,1,1], [[2,2], [8,2]])`"
   ]
  },
  {
   "cell_type": "code",
   "execution_count": 62,
   "metadata": {},
   "outputs": [],
   "source": [
    "import random\n",
    "def Kmeans(X, num_clusters=8, max_iter=300):\n",
    "    \n",
    "    # YOUR CODE STARTS HERE\n",
    "    #I am setting the tolerance as 1%.Meaning iterations will stop after the change is less than 3%\n",
    "    tolerance=1\n",
    "    #choosing num_clusters random indices from the dataset as our cluster centres\n",
    "    indices=random.sample(range(0,X.shape[0]),num_clusters)\n",
    "    clust_centres=np.array([X[i] for i in indices ])\n",
    "    #refining cluster centres for at most max_iter times\n",
    "    for i in range(max_iter):\n",
    "        clusters={}\n",
    "        #all datapoints in a cluster as stored as elements of a dictionary with keys as cluster indices\n",
    "        for x in range(num_clusters):\n",
    "            clusters[x]=np.empty((0,X.shape[1]))\n",
    "        #iterating for the min distances of each data point\n",
    "        for data_point in X:\n",
    "            dist_list=[np.linalg.norm(data_point - clust_centres[i]) for i in range(num_clusters)]\n",
    "            #the index of the minimum distanced centre is stored in the variable data_point_cluster\n",
    "            data_point_cluster=dist_list.index(min(dist_list))\n",
    "            #appending the datapoint to the respective cluster\n",
    "            clusters[data_point_cluster]=np.append(clusters[data_point_cluster],np.reshape(data_point,(1,X.shape[1])),axis=0)\n",
    "        #creating a new empty array new_clust_centres to allow us to compare the changes after each iteration\n",
    "        new_clust_centres=np.empty((0,X.shape[1]))\n",
    "        for j in range(num_clusters):\n",
    "            #heres the refining part. The cluster centres are shifted to the centre of their respective clusters.\n",
    "            new_clust_centres=np.append(new_clust_centres,np.reshape(np.average(clusters[j],axis=0),(1,X.shape[1])),axis=0)\n",
    "        more_needed=False #this variable checks if more refining is needed\n",
    "        for j in range(num_clusters):\n",
    "            #if the change exceeds the tolerance in any cluster, more iterations are required.\n",
    "            if(np.sum(np.absolute(np.array(new_clust_centres)-np.array(clust_centres))/clust_centres *100)>tolerance):\n",
    "                more_needed=True\n",
    "                break\n",
    "        #assign the new centres as the old centres.\n",
    "        clust_centres=new_clust_centres\n",
    "        #break when more refining is not required.\n",
    "        if(more_needed==False):\n",
    "            break\n",
    "    labels=np.empty((0,))\n",
    "    #finding the corresponding cluster indices for each datapoint in X\n",
    "    for z in X:\n",
    "        final_dist_list=[np.linalg.norm(z-clust_centres[i]) for i in range(num_clusters)]\n",
    "        labels=np.append(labels,[final_dist_list.index(min(final_dist_list))])\n",
    "    return (labels,np.array(clust_centres))\n",
    "            # YOUR CODE ENDS HERE\n",
    "    \n",
    "#     return (labels, centers)"
   ]
  },
  {
   "cell_type": "code",
   "execution_count": 63,
   "metadata": {},
   "outputs": [
    {
     "name": "stdout",
     "output_type": "stream",
     "text": [
      "[0. 0. 0. 1. 1.]\n"
     ]
    }
   ],
   "source": [
    "lab,cen=Kmeans(np.array([[2,1], [2,3], [8,1], [8,3],[8,8]]), num_clusters=2,max_iter=30)\n",
    "print(lab)"
   ]
  },
  {
   "cell_type": "markdown",
   "metadata": {},
   "source": [
    "Cluster the synopsis (represented as TfIdf vectors) using Kmeans. You can play with different number of centers and maximum iterations to get different results."
   ]
  },
  {
   "cell_type": "code",
   "execution_count": 64,
   "metadata": {},
   "outputs": [
    {
     "name": "stdout",
     "output_type": "stream",
     "text": [
      "CPU times: user 53.7 ms, sys: 7.94 ms, total: 61.7 ms\n",
      "Wall time: 59.5 ms\n"
     ]
    },
    {
     "name": "stderr",
     "output_type": "stream",
     "text": [
      "/home/eerie16/anaconda3/lib/python3.6/site-packages/ipykernel_launcher.py:31: RuntimeWarning: divide by zero encountered in true_divide\n",
      "/home/eerie16/anaconda3/lib/python3.6/site-packages/ipykernel_launcher.py:31: RuntimeWarning: invalid value encountered in true_divide\n"
     ]
    }
   ],
   "source": [
    "%time (labels, centers) = Kmeans(tfidf_matrix.todense(), num_clusters=3, max_iter=1000)"
   ]
  },
  {
   "cell_type": "markdown",
   "metadata": {},
   "source": [
    "Now we create a dataframe `frame` that stores the the clusters labels, names and genres for all the 100 movies."
   ]
  },
  {
   "cell_type": "code",
   "execution_count": 65,
   "metadata": {
    "scrolled": false
   },
   "outputs": [
    {
     "data": {
      "text/html": [
       "<div>\n",
       "<style scoped>\n",
       "    .dataframe tbody tr th:only-of-type {\n",
       "        vertical-align: middle;\n",
       "    }\n",
       "\n",
       "    .dataframe tbody tr th {\n",
       "        vertical-align: top;\n",
       "    }\n",
       "\n",
       "    .dataframe thead th {\n",
       "        text-align: right;\n",
       "    }\n",
       "</style>\n",
       "<table border=\"1\" class=\"dataframe\">\n",
       "  <thead>\n",
       "    <tr style=\"text-align: right;\">\n",
       "      <th></th>\n",
       "      <th>title</th>\n",
       "      <th>cluster</th>\n",
       "      <th>genre</th>\n",
       "    </tr>\n",
       "  </thead>\n",
       "  <tbody>\n",
       "    <tr>\n",
       "      <th>2.0</th>\n",
       "      <td>The Godfather</td>\n",
       "      <td>2.0</td>\n",
       "      <td>[u' Crime', u' Drama']</td>\n",
       "    </tr>\n",
       "    <tr>\n",
       "      <th>2.0</th>\n",
       "      <td>The Shawshank Redemption</td>\n",
       "      <td>2.0</td>\n",
       "      <td>[u' Crime', u' Drama']</td>\n",
       "    </tr>\n",
       "    <tr>\n",
       "      <th>0.0</th>\n",
       "      <td>Schindler's List</td>\n",
       "      <td>0.0</td>\n",
       "      <td>[u' Biography', u' Drama', u' History']</td>\n",
       "    </tr>\n",
       "    <tr>\n",
       "      <th>1.0</th>\n",
       "      <td>Raging Bull</td>\n",
       "      <td>1.0</td>\n",
       "      <td>[u' Biography', u' Drama', u' Sport']</td>\n",
       "    </tr>\n",
       "    <tr>\n",
       "      <th>0.0</th>\n",
       "      <td>Casablanca</td>\n",
       "      <td>0.0</td>\n",
       "      <td>[u' Drama', u' Romance', u' War']</td>\n",
       "    </tr>\n",
       "    <tr>\n",
       "      <th>0.0</th>\n",
       "      <td>One Flew Over the Cuckoo's Nest</td>\n",
       "      <td>0.0</td>\n",
       "      <td>[u' Drama']</td>\n",
       "    </tr>\n",
       "    <tr>\n",
       "      <th>2.0</th>\n",
       "      <td>Gone with the Wind</td>\n",
       "      <td>2.0</td>\n",
       "      <td>[u' Drama', u' Romance', u' War']</td>\n",
       "    </tr>\n",
       "    <tr>\n",
       "      <th>2.0</th>\n",
       "      <td>Citizen Kane</td>\n",
       "      <td>2.0</td>\n",
       "      <td>[u' Drama', u' Mystery']</td>\n",
       "    </tr>\n",
       "    <tr>\n",
       "      <th>0.0</th>\n",
       "      <td>The Wizard of Oz</td>\n",
       "      <td>0.0</td>\n",
       "      <td>[u' Adventure', u' Family', u' Fantasy', u' Mu...</td>\n",
       "    </tr>\n",
       "    <tr>\n",
       "      <th>0.0</th>\n",
       "      <td>Titanic</td>\n",
       "      <td>0.0</td>\n",
       "      <td>[u' Drama', u' Romance']</td>\n",
       "    </tr>\n",
       "    <tr>\n",
       "      <th>1.0</th>\n",
       "      <td>Lawrence of Arabia</td>\n",
       "      <td>1.0</td>\n",
       "      <td>[u' Adventure', u' Biography', u' Drama', u' H...</td>\n",
       "    </tr>\n",
       "    <tr>\n",
       "      <th>2.0</th>\n",
       "      <td>The Godfather: Part II</td>\n",
       "      <td>2.0</td>\n",
       "      <td>[u' Crime', u' Drama']</td>\n",
       "    </tr>\n",
       "    <tr>\n",
       "      <th>0.0</th>\n",
       "      <td>Psycho</td>\n",
       "      <td>0.0</td>\n",
       "      <td>[u' Horror', u' Mystery', u' Thriller']</td>\n",
       "    </tr>\n",
       "    <tr>\n",
       "      <th>2.0</th>\n",
       "      <td>Sunset Blvd.</td>\n",
       "      <td>2.0</td>\n",
       "      <td>[u' Drama', u' Film-Noir']</td>\n",
       "    </tr>\n",
       "    <tr>\n",
       "      <th>0.0</th>\n",
       "      <td>Vertigo</td>\n",
       "      <td>0.0</td>\n",
       "      <td>[u' Mystery', u' Romance', u' Thriller']</td>\n",
       "    </tr>\n",
       "    <tr>\n",
       "      <th>1.0</th>\n",
       "      <td>On the Waterfront</td>\n",
       "      <td>1.0</td>\n",
       "      <td>[u' Crime', u' Drama']</td>\n",
       "    </tr>\n",
       "    <tr>\n",
       "      <th>2.0</th>\n",
       "      <td>Forrest Gump</td>\n",
       "      <td>2.0</td>\n",
       "      <td>[u' Drama', u' Romance']</td>\n",
       "    </tr>\n",
       "    <tr>\n",
       "      <th>2.0</th>\n",
       "      <td>The Sound of Music</td>\n",
       "      <td>2.0</td>\n",
       "      <td>[u' Biography', u' Drama', u' Family', u' Musi...</td>\n",
       "    </tr>\n",
       "    <tr>\n",
       "      <th>1.0</th>\n",
       "      <td>West Side Story</td>\n",
       "      <td>1.0</td>\n",
       "      <td>[u' Crime', u' Drama', u' Musical', u' Romance...</td>\n",
       "    </tr>\n",
       "    <tr>\n",
       "      <th>0.0</th>\n",
       "      <td>Star Wars</td>\n",
       "      <td>0.0</td>\n",
       "      <td>[u' Action', u' Adventure', u' Fantasy', u' Sc...</td>\n",
       "    </tr>\n",
       "    <tr>\n",
       "      <th>0.0</th>\n",
       "      <td>E.T. the Extra-Terrestrial</td>\n",
       "      <td>0.0</td>\n",
       "      <td>[u' Adventure', u' Family', u' Sci-Fi']</td>\n",
       "    </tr>\n",
       "    <tr>\n",
       "      <th>0.0</th>\n",
       "      <td>2001: A Space Odyssey</td>\n",
       "      <td>0.0</td>\n",
       "      <td>[u' Mystery', u' Sci-Fi']</td>\n",
       "    </tr>\n",
       "    <tr>\n",
       "      <th>0.0</th>\n",
       "      <td>The Silence of the Lambs</td>\n",
       "      <td>0.0</td>\n",
       "      <td>[u' Crime', u' Drama', u' Thriller']</td>\n",
       "    </tr>\n",
       "    <tr>\n",
       "      <th>0.0</th>\n",
       "      <td>Chinatown</td>\n",
       "      <td>0.0</td>\n",
       "      <td>[u' Drama', u' Mystery', u' Thriller']</td>\n",
       "    </tr>\n",
       "    <tr>\n",
       "      <th>1.0</th>\n",
       "      <td>The Bridge on the River Kwai</td>\n",
       "      <td>1.0</td>\n",
       "      <td>[u' Adventure', u' Drama', u' War']</td>\n",
       "    </tr>\n",
       "    <tr>\n",
       "      <th>1.0</th>\n",
       "      <td>Singin' in the Rain</td>\n",
       "      <td>1.0</td>\n",
       "      <td>[u' Comedy', u' Musical', u' Romance']</td>\n",
       "    </tr>\n",
       "    <tr>\n",
       "      <th>0.0</th>\n",
       "      <td>It's a Wonderful Life</td>\n",
       "      <td>0.0</td>\n",
       "      <td>[u' Drama', u' Family', u' Fantasy']</td>\n",
       "    </tr>\n",
       "    <tr>\n",
       "      <th>2.0</th>\n",
       "      <td>Some Like It Hot</td>\n",
       "      <td>2.0</td>\n",
       "      <td>[u' Comedy']</td>\n",
       "    </tr>\n",
       "    <tr>\n",
       "      <th>0.0</th>\n",
       "      <td>12 Angry Men</td>\n",
       "      <td>0.0</td>\n",
       "      <td>[u' Drama']</td>\n",
       "    </tr>\n",
       "    <tr>\n",
       "      <th>1.0</th>\n",
       "      <td>Dr. Strangelove or: How I Learned to Stop Worr...</td>\n",
       "      <td>1.0</td>\n",
       "      <td>[u' Comedy', u' War']</td>\n",
       "    </tr>\n",
       "    <tr>\n",
       "      <th>...</th>\n",
       "      <td>...</td>\n",
       "      <td>...</td>\n",
       "      <td>...</td>\n",
       "    </tr>\n",
       "    <tr>\n",
       "      <th>2.0</th>\n",
       "      <td>Rain Man</td>\n",
       "      <td>2.0</td>\n",
       "      <td>[u' Drama']</td>\n",
       "    </tr>\n",
       "    <tr>\n",
       "      <th>2.0</th>\n",
       "      <td>Annie Hall</td>\n",
       "      <td>2.0</td>\n",
       "      <td>[u' Comedy', u' Drama', u' Romance']</td>\n",
       "    </tr>\n",
       "    <tr>\n",
       "      <th>2.0</th>\n",
       "      <td>Out of Africa</td>\n",
       "      <td>2.0</td>\n",
       "      <td>[u' Biography', u' Drama', u' Romance']</td>\n",
       "    </tr>\n",
       "    <tr>\n",
       "      <th>2.0</th>\n",
       "      <td>Good Will Hunting</td>\n",
       "      <td>2.0</td>\n",
       "      <td>[u' Drama']</td>\n",
       "    </tr>\n",
       "    <tr>\n",
       "      <th>2.0</th>\n",
       "      <td>Terms of Endearment</td>\n",
       "      <td>2.0</td>\n",
       "      <td>[u' Comedy', u' Drama']</td>\n",
       "    </tr>\n",
       "    <tr>\n",
       "      <th>2.0</th>\n",
       "      <td>Tootsie</td>\n",
       "      <td>2.0</td>\n",
       "      <td>[u' Comedy', u' Drama', u' Romance']</td>\n",
       "    </tr>\n",
       "    <tr>\n",
       "      <th>0.0</th>\n",
       "      <td>Fargo</td>\n",
       "      <td>0.0</td>\n",
       "      <td>[u' Crime', u' Drama', u' Thriller']</td>\n",
       "    </tr>\n",
       "    <tr>\n",
       "      <th>2.0</th>\n",
       "      <td>Giant</td>\n",
       "      <td>2.0</td>\n",
       "      <td>[u' Drama', u' Romance']</td>\n",
       "    </tr>\n",
       "    <tr>\n",
       "      <th>0.0</th>\n",
       "      <td>The Grapes of Wrath</td>\n",
       "      <td>0.0</td>\n",
       "      <td>[u' Drama']</td>\n",
       "    </tr>\n",
       "    <tr>\n",
       "      <th>1.0</th>\n",
       "      <td>Shane</td>\n",
       "      <td>1.0</td>\n",
       "      <td>[u' Drama', u' Romance', u' Western']</td>\n",
       "    </tr>\n",
       "    <tr>\n",
       "      <th>0.0</th>\n",
       "      <td>The Green Mile</td>\n",
       "      <td>0.0</td>\n",
       "      <td>[u' Crime', u' Drama', u' Fantasy', u' Mystery']</td>\n",
       "    </tr>\n",
       "    <tr>\n",
       "      <th>0.0</th>\n",
       "      <td>Close Encounters of the Third Kind</td>\n",
       "      <td>0.0</td>\n",
       "      <td>[u' Drama', u' Sci-Fi']</td>\n",
       "    </tr>\n",
       "    <tr>\n",
       "      <th>0.0</th>\n",
       "      <td>Network</td>\n",
       "      <td>0.0</td>\n",
       "      <td>[u' Drama']</td>\n",
       "    </tr>\n",
       "    <tr>\n",
       "      <th>0.0</th>\n",
       "      <td>Nashville</td>\n",
       "      <td>0.0</td>\n",
       "      <td>[u' Drama', u' Music']</td>\n",
       "    </tr>\n",
       "    <tr>\n",
       "      <th>2.0</th>\n",
       "      <td>The Graduate</td>\n",
       "      <td>2.0</td>\n",
       "      <td>[u' Comedy', u' Drama', u' Romance']</td>\n",
       "    </tr>\n",
       "    <tr>\n",
       "      <th>0.0</th>\n",
       "      <td>American Graffiti</td>\n",
       "      <td>0.0</td>\n",
       "      <td>[u' Comedy', u' Drama']</td>\n",
       "    </tr>\n",
       "    <tr>\n",
       "      <th>0.0</th>\n",
       "      <td>Pulp Fiction</td>\n",
       "      <td>0.0</td>\n",
       "      <td>[u' Crime', u' Drama', u' Thriller']</td>\n",
       "    </tr>\n",
       "    <tr>\n",
       "      <th>1.0</th>\n",
       "      <td>The African Queen</td>\n",
       "      <td>1.0</td>\n",
       "      <td>[u' Adventure', u' Romance', u' War']</td>\n",
       "    </tr>\n",
       "    <tr>\n",
       "      <th>0.0</th>\n",
       "      <td>Stagecoach</td>\n",
       "      <td>0.0</td>\n",
       "      <td>[u' Adventure', u' Western']</td>\n",
       "    </tr>\n",
       "    <tr>\n",
       "      <th>0.0</th>\n",
       "      <td>Mutiny on the Bounty</td>\n",
       "      <td>0.0</td>\n",
       "      <td>[u' Adventure', u' Drama', u' History']</td>\n",
       "    </tr>\n",
       "    <tr>\n",
       "      <th>0.0</th>\n",
       "      <td>The Maltese Falcon</td>\n",
       "      <td>0.0</td>\n",
       "      <td>[u' Drama', u' Film-Noir', u' Mystery']</td>\n",
       "    </tr>\n",
       "    <tr>\n",
       "      <th>0.0</th>\n",
       "      <td>A Clockwork Orange</td>\n",
       "      <td>0.0</td>\n",
       "      <td>[u' Crime', u' Drama', u' Sci-Fi']</td>\n",
       "    </tr>\n",
       "    <tr>\n",
       "      <th>0.0</th>\n",
       "      <td>Taxi Driver</td>\n",
       "      <td>0.0</td>\n",
       "      <td>[u' Crime', u' Drama']</td>\n",
       "    </tr>\n",
       "    <tr>\n",
       "      <th>2.0</th>\n",
       "      <td>Wuthering Heights</td>\n",
       "      <td>2.0</td>\n",
       "      <td>[u' Drama', u' Romance']</td>\n",
       "    </tr>\n",
       "    <tr>\n",
       "      <th>0.0</th>\n",
       "      <td>Double Indemnity</td>\n",
       "      <td>0.0</td>\n",
       "      <td>[u' Crime', u' Drama', u' Film-Noir', u' Thril...</td>\n",
       "    </tr>\n",
       "    <tr>\n",
       "      <th>0.0</th>\n",
       "      <td>Rebel Without a Cause</td>\n",
       "      <td>0.0</td>\n",
       "      <td>[u' Drama']</td>\n",
       "    </tr>\n",
       "    <tr>\n",
       "      <th>0.0</th>\n",
       "      <td>Rear Window</td>\n",
       "      <td>0.0</td>\n",
       "      <td>[u' Mystery', u' Thriller']</td>\n",
       "    </tr>\n",
       "    <tr>\n",
       "      <th>0.0</th>\n",
       "      <td>The Third Man</td>\n",
       "      <td>0.0</td>\n",
       "      <td>[u' Film-Noir', u' Mystery', u' Thriller']</td>\n",
       "    </tr>\n",
       "    <tr>\n",
       "      <th>0.0</th>\n",
       "      <td>North by Northwest</td>\n",
       "      <td>0.0</td>\n",
       "      <td>[u' Mystery', u' Thriller']</td>\n",
       "    </tr>\n",
       "    <tr>\n",
       "      <th>2.0</th>\n",
       "      <td>Yankee Doodle Dandy</td>\n",
       "      <td>2.0</td>\n",
       "      <td>[u' Biography', u' Drama', u' Musical']</td>\n",
       "    </tr>\n",
       "  </tbody>\n",
       "</table>\n",
       "<p>100 rows × 3 columns</p>\n",
       "</div>"
      ],
      "text/plain": [
       "                                                 title  cluster  \\\n",
       "2.0                                      The Godfather      2.0   \n",
       "2.0                           The Shawshank Redemption      2.0   \n",
       "0.0                                   Schindler's List      0.0   \n",
       "1.0                                        Raging Bull      1.0   \n",
       "0.0                                         Casablanca      0.0   \n",
       "0.0                    One Flew Over the Cuckoo's Nest      0.0   \n",
       "2.0                                 Gone with the Wind      2.0   \n",
       "2.0                                       Citizen Kane      2.0   \n",
       "0.0                                   The Wizard of Oz      0.0   \n",
       "0.0                                            Titanic      0.0   \n",
       "1.0                                 Lawrence of Arabia      1.0   \n",
       "2.0                             The Godfather: Part II      2.0   \n",
       "0.0                                             Psycho      0.0   \n",
       "2.0                                       Sunset Blvd.      2.0   \n",
       "0.0                                            Vertigo      0.0   \n",
       "1.0                                  On the Waterfront      1.0   \n",
       "2.0                                       Forrest Gump      2.0   \n",
       "2.0                                 The Sound of Music      2.0   \n",
       "1.0                                    West Side Story      1.0   \n",
       "0.0                                          Star Wars      0.0   \n",
       "0.0                         E.T. the Extra-Terrestrial      0.0   \n",
       "0.0                              2001: A Space Odyssey      0.0   \n",
       "0.0                           The Silence of the Lambs      0.0   \n",
       "0.0                                          Chinatown      0.0   \n",
       "1.0                       The Bridge on the River Kwai      1.0   \n",
       "1.0                                Singin' in the Rain      1.0   \n",
       "0.0                              It's a Wonderful Life      0.0   \n",
       "2.0                                   Some Like It Hot      2.0   \n",
       "0.0                                       12 Angry Men      0.0   \n",
       "1.0  Dr. Strangelove or: How I Learned to Stop Worr...      1.0   \n",
       "..                                                 ...      ...   \n",
       "2.0                                           Rain Man      2.0   \n",
       "2.0                                         Annie Hall      2.0   \n",
       "2.0                                      Out of Africa      2.0   \n",
       "2.0                                  Good Will Hunting      2.0   \n",
       "2.0                                Terms of Endearment      2.0   \n",
       "2.0                                            Tootsie      2.0   \n",
       "0.0                                              Fargo      0.0   \n",
       "2.0                                              Giant      2.0   \n",
       "0.0                                The Grapes of Wrath      0.0   \n",
       "1.0                                              Shane      1.0   \n",
       "0.0                                     The Green Mile      0.0   \n",
       "0.0                 Close Encounters of the Third Kind      0.0   \n",
       "0.0                                            Network      0.0   \n",
       "0.0                                          Nashville      0.0   \n",
       "2.0                                       The Graduate      2.0   \n",
       "0.0                                  American Graffiti      0.0   \n",
       "0.0                                       Pulp Fiction      0.0   \n",
       "1.0                                  The African Queen      1.0   \n",
       "0.0                                         Stagecoach      0.0   \n",
       "0.0                               Mutiny on the Bounty      0.0   \n",
       "0.0                                 The Maltese Falcon      0.0   \n",
       "0.0                                 A Clockwork Orange      0.0   \n",
       "0.0                                        Taxi Driver      0.0   \n",
       "2.0                                  Wuthering Heights      2.0   \n",
       "0.0                                   Double Indemnity      0.0   \n",
       "0.0                              Rebel Without a Cause      0.0   \n",
       "0.0                                        Rear Window      0.0   \n",
       "0.0                                      The Third Man      0.0   \n",
       "0.0                                 North by Northwest      0.0   \n",
       "2.0                                Yankee Doodle Dandy      2.0   \n",
       "\n",
       "                                                 genre  \n",
       "2.0                             [u' Crime', u' Drama']  \n",
       "2.0                             [u' Crime', u' Drama']  \n",
       "0.0            [u' Biography', u' Drama', u' History']  \n",
       "1.0              [u' Biography', u' Drama', u' Sport']  \n",
       "0.0                  [u' Drama', u' Romance', u' War']  \n",
       "0.0                                        [u' Drama']  \n",
       "2.0                  [u' Drama', u' Romance', u' War']  \n",
       "2.0                           [u' Drama', u' Mystery']  \n",
       "0.0  [u' Adventure', u' Family', u' Fantasy', u' Mu...  \n",
       "0.0                           [u' Drama', u' Romance']  \n",
       "1.0  [u' Adventure', u' Biography', u' Drama', u' H...  \n",
       "2.0                             [u' Crime', u' Drama']  \n",
       "0.0            [u' Horror', u' Mystery', u' Thriller']  \n",
       "2.0                         [u' Drama', u' Film-Noir']  \n",
       "0.0           [u' Mystery', u' Romance', u' Thriller']  \n",
       "1.0                             [u' Crime', u' Drama']  \n",
       "2.0                           [u' Drama', u' Romance']  \n",
       "2.0  [u' Biography', u' Drama', u' Family', u' Musi...  \n",
       "1.0  [u' Crime', u' Drama', u' Musical', u' Romance...  \n",
       "0.0  [u' Action', u' Adventure', u' Fantasy', u' Sc...  \n",
       "0.0            [u' Adventure', u' Family', u' Sci-Fi']  \n",
       "0.0                          [u' Mystery', u' Sci-Fi']  \n",
       "0.0               [u' Crime', u' Drama', u' Thriller']  \n",
       "0.0             [u' Drama', u' Mystery', u' Thriller']  \n",
       "1.0                [u' Adventure', u' Drama', u' War']  \n",
       "1.0             [u' Comedy', u' Musical', u' Romance']  \n",
       "0.0               [u' Drama', u' Family', u' Fantasy']  \n",
       "2.0                                       [u' Comedy']  \n",
       "0.0                                        [u' Drama']  \n",
       "1.0                              [u' Comedy', u' War']  \n",
       "..                                                 ...  \n",
       "2.0                                        [u' Drama']  \n",
       "2.0               [u' Comedy', u' Drama', u' Romance']  \n",
       "2.0            [u' Biography', u' Drama', u' Romance']  \n",
       "2.0                                        [u' Drama']  \n",
       "2.0                            [u' Comedy', u' Drama']  \n",
       "2.0               [u' Comedy', u' Drama', u' Romance']  \n",
       "0.0               [u' Crime', u' Drama', u' Thriller']  \n",
       "2.0                           [u' Drama', u' Romance']  \n",
       "0.0                                        [u' Drama']  \n",
       "1.0              [u' Drama', u' Romance', u' Western']  \n",
       "0.0   [u' Crime', u' Drama', u' Fantasy', u' Mystery']  \n",
       "0.0                            [u' Drama', u' Sci-Fi']  \n",
       "0.0                                        [u' Drama']  \n",
       "0.0                             [u' Drama', u' Music']  \n",
       "2.0               [u' Comedy', u' Drama', u' Romance']  \n",
       "0.0                            [u' Comedy', u' Drama']  \n",
       "0.0               [u' Crime', u' Drama', u' Thriller']  \n",
       "1.0              [u' Adventure', u' Romance', u' War']  \n",
       "0.0                       [u' Adventure', u' Western']  \n",
       "0.0            [u' Adventure', u' Drama', u' History']  \n",
       "0.0            [u' Drama', u' Film-Noir', u' Mystery']  \n",
       "0.0                 [u' Crime', u' Drama', u' Sci-Fi']  \n",
       "0.0                             [u' Crime', u' Drama']  \n",
       "2.0                           [u' Drama', u' Romance']  \n",
       "0.0  [u' Crime', u' Drama', u' Film-Noir', u' Thril...  \n",
       "0.0                                        [u' Drama']  \n",
       "0.0                        [u' Mystery', u' Thriller']  \n",
       "0.0         [u' Film-Noir', u' Mystery', u' Thriller']  \n",
       "0.0                        [u' Mystery', u' Thriller']  \n",
       "2.0            [u' Biography', u' Drama', u' Musical']  \n",
       "\n",
       "[100 rows x 3 columns]"
      ]
     },
     "execution_count": 65,
     "metadata": {},
     "output_type": "execute_result"
    }
   ],
   "source": [
    "import pandas as pd\n",
    "films = {'title': titles, 'synopsis': synopsis, 'cluster': labels, 'genre': genres}\n",
    "frame = pd.DataFrame(films, index = [labels] , columns = ['title', 'cluster', 'genre'])\n",
    "frame"
   ]
  },
  {
   "cell_type": "markdown",
   "metadata": {},
   "source": [
    "Movie counts for a particular cluster."
   ]
  },
  {
   "cell_type": "code",
   "execution_count": 66,
   "metadata": {
    "scrolled": true
   },
   "outputs": [
    {
     "data": {
      "text/plain": [
       "0.0    40\n",
       "2.0    36\n",
       "1.0    24\n",
       "Name: cluster, dtype: int64"
      ]
     },
     "execution_count": 66,
     "metadata": {},
     "output_type": "execute_result"
    }
   ],
   "source": [
    "frame['cluster'].value_counts()"
   ]
  },
  {
   "cell_type": "markdown",
   "metadata": {},
   "source": [
    "### Interpreting Results\n",
    "We sort the cluster centers to get the most important terms per cluster and store it in `cluster_names`. We print them along with the movies in that cluster and look how well has KMeans worked."
   ]
  },
  {
   "cell_type": "code",
   "execution_count": 67,
   "metadata": {
    "scrolled": false
   },
   "outputs": [
    {
     "name": "stdout",
     "output_type": "stream",
     "text": [
      "Top terms per cluster:\n",
      "(3, 449)\n",
      "Cluster 0 words: car, police, family, home, ship, away,\n",
      "Cluster 0 titles: Schindler's List, Casablanca, One Flew Over the Cuckoo's Nest, The Wizard of Oz, Titanic, Psycho, Vertigo, Star Wars, E.T. the Extra-Terrestrial, 2001: A Space Odyssey, The Silence of the Lambs, Chinatown, It's a Wonderful Life, 12 Angry Men, Unforgiven, Rocky, A Streetcar Named Desire, Butch Cassidy and the Sundance Kid, The Treasure of the Sierra Madre, The Exorcist, The French Connection, Mr. Smith Goes to Washington, Fargo, The Grapes of Wrath, The Green Mile, Close Encounters of the Third Kind, Network, Nashville, American Graffiti, Pulp Fiction, Stagecoach, Mutiny on the Bounty, The Maltese Falcon, A Clockwork Orange, Taxi Driver, Double Indemnity, Rebel Without a Cause, Rear Window, The Third Man, North by Northwest,\n",
      "\n",
      "Cluster 1 words: soldier, fight, men, war, order, water,\n",
      "Cluster 1 titles: Raging Bull, Lawrence of Arabia, On the Waterfront, West Side Story, The Bridge on the River Kwai, Singin' in the Rain, Dr. Strangelove or: How I Learned to Stop Worrying and Love the Bomb, Apocalypse Now, The Lord of the Rings: The Return of the King, Gladiator, From Here to Eternity, Saving Private Ryan, Raiders of the Lost Ark, Patton, Jaws, Braveheart, The Good, the Bad and the Ugly, The Apartment, Platoon, High Noon, The Deer Hunter, All Quiet on the Western Front, Shane, The African Queen,\n",
      "\n",
      "Cluster 2 words: father, family, love, woman, relationship, home,\n",
      "Cluster 2 titles: The Godfather, The Shawshank Redemption, Gone with the Wind, Citizen Kane, The Godfather: Part II, Sunset Blvd., Forrest Gump, The Sound of Music, Some Like It Hot, Amadeus, Gandhi, The Philadelphia Story, To Kill a Mockingbird, An American in Paris, The Best Years of Our Lives, My Fair Lady, Ben-Hur, Doctor Zhivago, Dances with Wolves, The Pianist, Goodfellas, City Lights, The King's Speech, It Happened One Night, A Place in the Sun, Midnight Cowboy, Rain Man, Annie Hall, Out of Africa, Good Will Hunting, Terms of Endearment, Tootsie, Giant, The Graduate, Wuthering Heights, Yankee Doodle Dandy,\n",
      "\n"
     ]
    }
   ],
   "source": [
    "print(\"Top terms per cluster:\")\n",
    "order_centroids = np.asarray(centers).argsort()[:, ::-1]\n",
    "order_centroids=np.reshape(order_centroids,(3,449))\n",
    "cluster_names = []\n",
    "print(order_centroids.shape)\n",
    "for i in range(order_centroids.shape[0]):\n",
    "    print(\"Cluster %d words:\" % i, end='')\n",
    "    q = \"\"\n",
    "    for ind in order_centroids[i, :6]:\n",
    "#         print(ind)\n",
    "        print(' %s' % terms[ind], end=',')\n",
    "#         print(terms[ind], end=\" \")\n",
    "        q += str(terms[ind])\n",
    "        q += \" \"\n",
    "    cluster_names.append(q)\n",
    "    print()\n",
    "    print(\"Cluster %d titles:\" % i, end='')\n",
    "    for title in frame.loc[i]['title'].values.tolist():\n",
    "        print(' %s,' % title, end='')\n",
    "    print()\n",
    "    print()"
   ]
  },
  {
   "cell_type": "markdown",
   "metadata": {},
   "source": [
    "### Plotting the Data\n",
    "Now we plot the various movie clusters.\n",
    "Basically we scale the multi-dimentional feature vector by applying 2 dimensional PCA. It is a technique used to visualize multi-dimensional plots in 2 dimensions. More about it [here](http://www.apnorton.com/blog/2016/12/19/Visualizing-Multidimensional-Data-in-Python/)."
   ]
  },
  {
   "cell_type": "code",
   "execution_count": 68,
   "metadata": {},
   "outputs": [],
   "source": [
    "import matplotlib.pyplot as plt\n",
    "from sklearn.decomposition import PCA as sklearnPCA"
   ]
  },
  {
   "cell_type": "code",
   "execution_count": 69,
   "metadata": {},
   "outputs": [],
   "source": [
    "pca = sklearnPCA(n_components=2) #2-dimensional PCA\n",
    "transformed = pd.DataFrame(pca.fit_transform(tfidf_matrix.todense()))"
   ]
  },
  {
   "cell_type": "code",
   "execution_count": 70,
   "metadata": {},
   "outputs": [
    {
     "data": {
      "image/png": "[encoded data removed]",
      "text/plain": [
       "<matplotlib.figure.Figure at 0x7f3178960518>"
      ]
     },
     "metadata": {},
     "output_type": "display_data"
    }
   ],
   "source": [
    "colors = ['red', 'blue', 'green', 'yellow', 'black', 'gray', 'orange', 'brown']\n",
    "for i in range(len(cluster_names)):\n",
    "    plt.scatter(transformed[labels == i][0], transformed[labels == i][1], label=cluster_names[i], c=colors[i])\n",
    "plt.legend()\n",
    "plt.show()"
   ]
  },
  {
   "cell_type": "markdown",
   "metadata": {},
   "source": [
    "# And you're done!"
   ]
  }
 ],
 "metadata": {
  "kernelspec": {
   "display_name": "Python 3",
   "language": "python",
   "name": "python3"
  },
  "language_info": {
   "codemirror_mode": {
    "name": "ipython",
    "version": 3
   },
   "file_extension": ".py",
   "mimetype": "text/x-python",
   "name": "python",
   "nbconvert_exporter": "python",
   "pygments_lexer": "ipython3",
   "version": "3.6.4"
  }
 },
 "nbformat": 4,
 "nbformat_minor": 2
}
